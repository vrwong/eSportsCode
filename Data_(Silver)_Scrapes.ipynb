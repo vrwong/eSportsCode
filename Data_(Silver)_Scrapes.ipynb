{
 "cells": [
  {
   "cell_type": "code",
   "execution_count": 2,
   "metadata": {
    "collapsed": true
   },
   "outputs": [],
   "source": [
    "from lxml import html\n",
    "import requests\n",
    "import pandas as pd"
   ]
  },
  {
   "cell_type": "code",
   "execution_count": 3,
   "metadata": {
    "collapsed": false
   },
   "outputs": [],
   "source": [
    "stat_list = ['Games Played','Wins','Losses','Average Game Time','Kills','Deaths','K:D','CKPM','GSPD','TWL','TWD','EGR','MLR','GD@15','FB%']\n",
    "stat_list_2 = ['FD%','DRG%','FT%','F3T%','HLD%','FBN%','BN%','JNG%','WPM','WCPM','VWC','IWC']\n",
    "stat_list = stat_list + stat_list_2"
   ]
  },
  {
   "cell_type": "markdown",
   "metadata": {},
   "source": [
    "Lines of html to test\n",
    "<div id=\"GoldP15\" class=\"cooltip\"><span class=\"abv\">Gold% Post-15</span><span class=\"desc\">Average Share of Team's Gold Earned Post-15 Minutes (excludes starting gold and inherent gold generation)</span></div>\n",
    "\n",
    "<td class=\"column-1\">Counter Logic Gaming</td>"
   ]
  },
  {
   "cell_type": "code",
   "execution_count": 4,
   "metadata": {
    "collapsed": false
   },
   "outputs": [],
   "source": [
    "###NA Teams and Players\n",
    "class_dest = '//td[@class=\"column-'\n",
    "class_end = '\"]/text()'\n",
    "page = requests.get('http://oracleselixir.com/statistics/na/na-lcs-2016-summer-playoffs-team-statistics/')\n",
    "tree = html.fromstring(page.content)\n",
    "team_stats_na = []\n",
    "\n",
    "for i in range(28):\n",
    "    team_stats_na.append(tree.xpath(class_dest+str(i+1)+class_end))\n",
    "\n",
    "page_player = requests.get('http://oracleselixir.com/statistics/na/na-lcs-2016-summer-playoffs-player-statistics/')\n",
    "tree_player = html.fromstring(page_player.content)\n",
    "player_stats_na = []\n",
    "\n",
    "for i in range(22):\n",
    "    player_stats_na.append(tree_player.xpath(class_dest+str(i+1)+class_end))"
   ]
  },
  {
   "cell_type": "code",
   "execution_count": 18,
   "metadata": {
    "collapsed": false
   },
   "outputs": [
    {
     "data": {
      "text/plain": [
       "['Cloud9',\n",
       " 'Counter Logic Gaming',\n",
       " 'EnVyUs',\n",
       " 'Immortals',\n",
       " 'Team Liquid',\n",
       " 'Team SoloMid']"
      ]
     },
     "execution_count": 18,
     "metadata": {},
     "output_type": "execute_result"
    }
   ],
   "source": [
    "team_stats_na[0]"
   ]
  },
  {
   "cell_type": "code",
   "execution_count": 7,
   "metadata": {
    "collapsed": false
   },
   "outputs": [],
   "source": [
    "Cloud_9_numbers = []\n",
    "Counter_Logic_Gaming_numbers = []\n",
    "EnVyUs_numbers = []\n",
    "Immortals_numbers = []\n",
    "Team_Liquid_numbers = []\n",
    "Team_SoloMid_numbers = []   \n",
    "for i in range(len(team_stats_na)-1):\n",
    "    Cloud_9_numbers.append(team_stats_na[i+1][0])\n",
    "    Counter_Logic_Gaming_numbers.append(team_stats_na[i+1][1])\n",
    "    EnVyUs_numbers.append(team_stats_na[i+1][2])\n",
    "    Immortals_numbers.append(team_stats_na[i+1][3])\n",
    "    Team_Liquid_numbers.append(team_stats_na[i+1][4])\n",
    "    Team_SoloMid_numbers.append(team_stats_na[i+1][5])"
   ]
  },
  {
   "cell_type": "code",
   "execution_count": 8,
   "metadata": {
    "collapsed": false
   },
   "outputs": [],
   "source": [
    "Cloud_9_stats = pd.Series(Cloud_9_numbers, index = stat_list)\n",
    "Counter_Logic_Gaming_stats = pd.Series(Counter_Logic_Gaming_numbers, index = stat_list)\n",
    "EnVyUs_stats = pd.Series(EnVyUs_numbers, index = stat_list)\n",
    "Immortals_stats = pd.Series(Immortals_numbers, index = stat_list)\n",
    "Team_Liquid_stats = pd.Series(Team_Liquid_numbers, index = stat_list)\n",
    "Team_SoloMid_stats = pd.Series(Team_SoloMid_numbers, index = stat_list)"
   ]
  },
  {
   "cell_type": "code",
   "execution_count": 9,
   "metadata": {
    "collapsed": false
   },
   "outputs": [],
   "source": [
    "NA_Team_Stats_data = {team_stats_na[0][0] : Cloud_9_stats,\n",
    "     ....:            team_stats_na[0][1] : Counter_Logic_Gaming_stats,\n",
    "     ....:            team_stats_na[0][2] : EnVyUs_stats,\n",
    "     ....:            team_stats_na[0][3] : Immortals_stats,\n",
    "     ....:            team_stats_na[0][4] : Team_Liquid_stats,\n",
    "     ....:            team_stats_na[0][5] : Team_SoloMid_stats    }\n",
    "NA_Team_Stats_data = pd.DataFrame(NA_Team_Stats_data)"
   ]
  },
  {
   "cell_type": "code",
   "execution_count": 12,
   "metadata": {
    "collapsed": false
   },
   "outputs": [
    {
     "data": {
      "text/plain": [
       "(Games Played            13\n",
       " Wins                     7\n",
       " Losses                   6\n",
       " Average Game Time     38.1\n",
       " Kills                  209\n",
       " Deaths                 155\n",
       " K:D                   1.35\n",
       " CKPM                  0.74\n",
       " GSPD                  3.7%\n",
       " TWL                  25.7%\n",
       " TWD                  12.6%\n",
       " EGR                   56.7\n",
       " MLR                   -2.9\n",
       " GD@15                  714\n",
       " FB%                    54%\n",
       " FD%                    38%\n",
       " DRG%                   44%\n",
       " FT%                    46%\n",
       " F3T%                   46%\n",
       " HLD%                    8%\n",
       " FBN%                   62%\n",
       " BN%                    70%\n",
       " JNG%                 49.0%\n",
       " WPM                   3.30\n",
       " WCPM                  1.27\n",
       " VWC                  69.4%\n",
       " IWC                  24.9%\n",
       " Name: Cloud9, dtype: object, Games Played             7\n",
       " Wins                     6\n",
       " Losses                   1\n",
       " Average Game Time     38.9\n",
       " Kills                   95\n",
       " Deaths                  57\n",
       " K:D                   1.67\n",
       " CKPM                  0.56\n",
       " GSPD                  8.5%\n",
       " TWL                  35.1%\n",
       " TWD                   5.6%\n",
       " EGR                   73.3\n",
       " MLR                   12.5\n",
       " GD@15                1,529\n",
       " FB%                    57%\n",
       " FD%                    71%\n",
       " DRG%                   85%\n",
       " FT%                    43%\n",
       " F3T%                   57%\n",
       " HLD%                    0%\n",
       " FBN%                   71%\n",
       " BN%                    63%\n",
       " JNG%                 52.0%\n",
       " WPM                   3.48\n",
       " WCPM                  1.49\n",
       " VWC                  79.1%\n",
       " IWC                  28.5%\n",
       " Name: Team SoloMid, dtype: object)"
      ]
     },
     "execution_count": 12,
     "metadata": {},
     "output_type": "execute_result"
    }
   ],
   "source": [
    "NA_Team_Stats_data['Cloud9'], NA_Team_Stats_data['Team SoloMid']"
   ]
  },
  {
   "cell_type": "code",
   "execution_count": null,
   "metadata": {
    "collapsed": true
   },
   "outputs": [],
   "source": [
    "field_name_abv = tree.xpath('//span[@class=\"abv\"]/text()')\n",
    "team_names = team_stats_na[0]\n",
    "games_played = team_stats_na[1]\n",
    "wins = team_stats_na[2]\n",
    "losses = team_stats_na[3]\n",
    "average_game_time = tree.xpath('//td[@class=\"column-5\"]/text()')\n",
    "kills = tree.xpath('//td[@class=\"column-6\"]/text()')\n",
    "deaths = tree.xpath('//td[@class=\"column-7\"]/text()')\n",
    "kills_to_deaths = tree.xpath('//td[@class=\"column-8\"]/text()')\n",
    "combined_kills_per_min = tree.xpath('//td[@class=\"column-9\"]/text()')\n",
    "average_gold_spent_percentage_difference = tree.xpath('//td[@class=\"column-10\"]/text()')\n",
    "time_with_gold_lead = tree.xpath('//td[@class=\"column-11\"]/text()')\n",
    "time_with_gold_deficit = tree.xpath('//td[@class=\"column-12\"]/text()')\n",
    "early_game_rating = tree.xpath('//td[@class=\"column-13\"]/text()')\n",
    "mid_to_lategame_rating = tree.xpath('//td[@class=\"column-14\"]/text()')\n",
    "gold_difference_at_15mins = tree.xpath('//td[@class=\"column-15\"]/text()')\n",
    "first_blood_rate = tree.xpath('//td[@class=\"column-16\"]/text()')\n",
    "first_dragon_rate = tree.xpath('//td[@class=\"column-17\"]/text()')\n",
    "drag_control = tree.xpath('//td[@class=\"column-18\"]/text()')\n",
    "first_tower_rate = tree.xpath('//td[@class=\"column-19\"]/text()')\n",
    "first_to_three_towers_rate = tree.xpath('//td[@class=\"column-20\"]/text()')\n",
    "herald_rate = tree.xpath('//td[@class=\"column-21\"]/text()')\n",
    "first_baron_rate = tree.xpath('//td[@class=\"column-22\"]/text()')\n",
    "baron_rate = tree.xpath('//td[@class=\"column-23\"]/text()')\n",
    "total_jungle_taken = tree.xpath('//td[@class=\"column-24\"]/text()')\n",
    "ward_per_min = tree.xpath('//td[@class=\"column-25\"]/text()')\n",
    "wards_cleared_per_min = tree.xpath('//td[@class=\"column-26\"]/text()')\n",
    "percent_of_visible_wards_cleared = tree.xpath('//td[@class=\"column-27\"]/text()')\n",
    "percent_of_stealth_wards_cleared = tree.xpath('//td[@class=\"column-28\"]/text()')\n"
   ]
  },
  {
   "cell_type": "code",
   "execution_count": 16,
   "metadata": {
    "collapsed": false,
    "scrolled": true
   },
   "outputs": [],
   "source": [
    "##EU Teams and Players\n",
    "class_dest = '//td[@class=\"column-'\n",
    "class_end = '\"]/text()'\n",
    "page = requests.get('http://oracleselixir.com/statistics/eu/eu-lcs-2016-summer-playoffs-team-statistics/')\n",
    "tree = html.fromstring(page.content)\n",
    "team_stats_eu = []\n",
    "\n",
    "for i in range(28):\n",
    "    team_stats_eu.append(tree.xpath(class_dest+str(i+1)+class_end))\n",
    "\n",
    "page_player = requests.get('http://oracleselixir.com/statistics/eu/eu-lcs-2016-summer-playoffs-player-statistics/')\n",
    "tree_player = html.fromstring(page_player.content)\n",
    "player_stats_eu = []\n",
    "\n",
    "for i in range(22):\n",
    "    player_stats_eu.append(tree_player.xpath(class_dest+str(i+1)+class_end))"
   ]
  },
  {
   "cell_type": "code",
   "execution_count": 17,
   "metadata": {
    "collapsed": false
   },
   "outputs": [
    {
     "data": {
      "text/plain": [
       "['Fnatic', 'G2 Esports', 'Giants', 'H2K', 'Splyce', 'Unicorns of Love']"
      ]
     },
     "execution_count": 17,
     "metadata": {},
     "output_type": "execute_result"
    }
   ],
   "source": [
    "team_stats_eu[0]"
   ]
  },
  {
   "cell_type": "code",
   "execution_count": 23,
   "metadata": {
    "collapsed": false
   },
   "outputs": [],
   "source": [
    "Fnatic_numbers = []\n",
    "G2_Esports_numbers = []\n",
    "Giants_numbers = []\n",
    "H2K_numbers = []\n",
    "Splyce_numbers = []\n",
    "Unicorns_of_Love_numbers = []   \n",
    "for i in range(len(team_stats_eu)-1):\n",
    "    Fnatic_numbers.append(team_stats_eu[i+1][0])\n",
    "    G2_Esports_numbers.append(team_stats_eu[i+1][1])\n",
    "    Giants_numbers.append(team_stats_eu[i+1][2])\n",
    "    H2K_numbers.append(team_stats_eu[i+1][3])\n",
    "    Splyce_numbers.append(team_stats_eu[i+1][4])\n",
    "    Unicorns_of_Love_numbers.append(team_stats_eu[i+1][5])"
   ]
  },
  {
   "cell_type": "code",
   "execution_count": 24,
   "metadata": {
    "collapsed": true
   },
   "outputs": [],
   "source": [
    "Fnatic_stats = pd.Series(Fnatic_numbers, index = stat_list)\n",
    "G2_Esports_stats = pd.Series(G2_Esports_numbers, index = stat_list)\n",
    "Giants_stats = pd.Series(Giants_numbers, index = stat_list)\n",
    "H2K_stats = pd.Series(H2K_numbers, index = stat_list)\n",
    "Splyce_stats = pd.Series(Splyce_numbers, index = stat_list)\n",
    "Unicorns_of_Love_stats = pd.Series(Unicorns_of_Love_numbers, index = stat_list)"
   ]
  },
  {
   "cell_type": "code",
   "execution_count": 29,
   "metadata": {
    "collapsed": false
   },
   "outputs": [
    {
     "data": {
      "text/html": [
       "<div>\n",
       "<table border=\"1\" class=\"dataframe\">\n",
       "  <thead>\n",
       "    <tr style=\"text-align: right;\">\n",
       "      <th></th>\n",
       "      <th>Fnatic</th>\n",
       "      <th>G2 Esports</th>\n",
       "      <th>Giants</th>\n",
       "      <th>H2K</th>\n",
       "      <th>Splyce</th>\n",
       "      <th>Unicorns of Love</th>\n",
       "    </tr>\n",
       "  </thead>\n",
       "  <tbody>\n",
       "    <tr>\n",
       "      <th>Games Played</th>\n",
       "      <td>3</td>\n",
       "      <td>8</td>\n",
       "      <td>4</td>\n",
       "      <td>12</td>\n",
       "      <td>9</td>\n",
       "      <td>12</td>\n",
       "    </tr>\n",
       "    <tr>\n",
       "      <th>Wins</th>\n",
       "      <td>0</td>\n",
       "      <td>6</td>\n",
       "      <td>1</td>\n",
       "      <td>8</td>\n",
       "      <td>4</td>\n",
       "      <td>5</td>\n",
       "    </tr>\n",
       "    <tr>\n",
       "      <th>Losses</th>\n",
       "      <td>3</td>\n",
       "      <td>2</td>\n",
       "      <td>3</td>\n",
       "      <td>4</td>\n",
       "      <td>5</td>\n",
       "      <td>7</td>\n",
       "    </tr>\n",
       "    <tr>\n",
       "      <th>Average Game Time</th>\n",
       "      <td>35.5</td>\n",
       "      <td>35.6</td>\n",
       "      <td>33.5</td>\n",
       "      <td>36.7</td>\n",
       "      <td>37.4</td>\n",
       "      <td>34.7</td>\n",
       "    </tr>\n",
       "    <tr>\n",
       "      <th>Kills</th>\n",
       "      <td>8</td>\n",
       "      <td>135</td>\n",
       "      <td>46</td>\n",
       "      <td>142</td>\n",
       "      <td>97</td>\n",
       "      <td>141</td>\n",
       "    </tr>\n",
       "    <tr>\n",
       "      <th>Deaths</th>\n",
       "      <td>49</td>\n",
       "      <td>91</td>\n",
       "      <td>69</td>\n",
       "      <td>87</td>\n",
       "      <td>110</td>\n",
       "      <td>164</td>\n",
       "    </tr>\n",
       "    <tr>\n",
       "      <th>K:D</th>\n",
       "      <td>0.16</td>\n",
       "      <td>1.48</td>\n",
       "      <td>0.67</td>\n",
       "      <td>1.63</td>\n",
       "      <td>0.88</td>\n",
       "      <td>0.86</td>\n",
       "    </tr>\n",
       "    <tr>\n",
       "      <th>CKPM</th>\n",
       "      <td>0.54</td>\n",
       "      <td>0.79</td>\n",
       "      <td>0.86</td>\n",
       "      <td>0.52</td>\n",
       "      <td>0.62</td>\n",
       "      <td>0.73</td>\n",
       "    </tr>\n",
       "    <tr>\n",
       "      <th>GSPD</th>\n",
       "      <td>-4.1%</td>\n",
       "      <td>10.9%</td>\n",
       "      <td>-11.4%</td>\n",
       "      <td>3.8%</td>\n",
       "      <td>-5.7%</td>\n",
       "      <td>-2.0%</td>\n",
       "    </tr>\n",
       "    <tr>\n",
       "      <th>TWL</th>\n",
       "      <td>0.0%</td>\n",
       "      <td>33.9%</td>\n",
       "      <td>12.1%</td>\n",
       "      <td>28.2%</td>\n",
       "      <td>9.6%</td>\n",
       "      <td>21.4%</td>\n",
       "    </tr>\n",
       "    <tr>\n",
       "      <th>TWD</th>\n",
       "      <td>31.7%</td>\n",
       "      <td>3.2%</td>\n",
       "      <td>52.3%</td>\n",
       "      <td>9.6%</td>\n",
       "      <td>34.5%</td>\n",
       "      <td>20.9%</td>\n",
       "    </tr>\n",
       "    <tr>\n",
       "      <th>EGR</th>\n",
       "      <td>21.3</td>\n",
       "      <td>71.0</td>\n",
       "      <td>29.6</td>\n",
       "      <td>73.5</td>\n",
       "      <td>27.6</td>\n",
       "      <td>43.3</td>\n",
       "    </tr>\n",
       "    <tr>\n",
       "      <th>MLR</th>\n",
       "      <td>-21.3</td>\n",
       "      <td>4.0</td>\n",
       "      <td>-4.6</td>\n",
       "      <td>-6.9</td>\n",
       "      <td>16.9</td>\n",
       "      <td>-1.6</td>\n",
       "    </tr>\n",
       "    <tr>\n",
       "      <th>GD@15</th>\n",
       "      <td>-1,615</td>\n",
       "      <td>1,826</td>\n",
       "      <td>-2,256</td>\n",
       "      <td>1,437</td>\n",
       "      <td>-1,530</td>\n",
       "      <td>-351</td>\n",
       "    </tr>\n",
       "    <tr>\n",
       "      <th>FB%</th>\n",
       "      <td>0%</td>\n",
       "      <td>38%</td>\n",
       "      <td>25%</td>\n",
       "      <td>50%</td>\n",
       "      <td>78%</td>\n",
       "      <td>58%</td>\n",
       "    </tr>\n",
       "    <tr>\n",
       "      <th>FD%</th>\n",
       "      <td>0%</td>\n",
       "      <td>63%</td>\n",
       "      <td>25%</td>\n",
       "      <td>92%</td>\n",
       "      <td>22%</td>\n",
       "      <td>42%</td>\n",
       "    </tr>\n",
       "    <tr>\n",
       "      <th>DRG%</th>\n",
       "      <td>22%</td>\n",
       "      <td>60%</td>\n",
       "      <td>25%</td>\n",
       "      <td>71%</td>\n",
       "      <td>40%</td>\n",
       "      <td>44%</td>\n",
       "    </tr>\n",
       "    <tr>\n",
       "      <th>FT%</th>\n",
       "      <td>0%</td>\n",
       "      <td>88%</td>\n",
       "      <td>25%</td>\n",
       "      <td>83%</td>\n",
       "      <td>22%</td>\n",
       "      <td>33%</td>\n",
       "    </tr>\n",
       "    <tr>\n",
       "      <th>F3T%</th>\n",
       "      <td>0%</td>\n",
       "      <td>50%</td>\n",
       "      <td>25%</td>\n",
       "      <td>67%</td>\n",
       "      <td>44%</td>\n",
       "      <td>58%</td>\n",
       "    </tr>\n",
       "    <tr>\n",
       "      <th>HLD%</th>\n",
       "      <td>0%</td>\n",
       "      <td>38%</td>\n",
       "      <td>25%</td>\n",
       "      <td>17%</td>\n",
       "      <td>0%</td>\n",
       "      <td>17%</td>\n",
       "    </tr>\n",
       "    <tr>\n",
       "      <th>FBN%</th>\n",
       "      <td>33%</td>\n",
       "      <td>88%</td>\n",
       "      <td>25%</td>\n",
       "      <td>58%</td>\n",
       "      <td>33%</td>\n",
       "      <td>42%</td>\n",
       "    </tr>\n",
       "    <tr>\n",
       "      <th>BN%</th>\n",
       "      <td>33%</td>\n",
       "      <td>80%</td>\n",
       "      <td>20%</td>\n",
       "      <td>63%</td>\n",
       "      <td>31%</td>\n",
       "      <td>47%</td>\n",
       "    </tr>\n",
       "    <tr>\n",
       "      <th>JNG%</th>\n",
       "      <td>52.1%</td>\n",
       "      <td>55.9%</td>\n",
       "      <td>45.5%</td>\n",
       "      <td>51.1%</td>\n",
       "      <td>48.0%</td>\n",
       "      <td>47.4%</td>\n",
       "    </tr>\n",
       "    <tr>\n",
       "      <th>WPM</th>\n",
       "      <td>3.49</td>\n",
       "      <td>3.62</td>\n",
       "      <td>3.53</td>\n",
       "      <td>3.58</td>\n",
       "      <td>3.39</td>\n",
       "      <td>3.41</td>\n",
       "    </tr>\n",
       "    <tr>\n",
       "      <th>WCPM</th>\n",
       "      <td>1.37</td>\n",
       "      <td>1.33</td>\n",
       "      <td>1.02</td>\n",
       "      <td>1.39</td>\n",
       "      <td>1.35</td>\n",
       "      <td>1.51</td>\n",
       "    </tr>\n",
       "    <tr>\n",
       "      <th>VWC</th>\n",
       "      <td>56.4%</td>\n",
       "      <td>72.7%</td>\n",
       "      <td>66.7%</td>\n",
       "      <td>73.3%</td>\n",
       "      <td>60.6%</td>\n",
       "      <td>72.1%</td>\n",
       "    </tr>\n",
       "    <tr>\n",
       "      <th>IWC</th>\n",
       "      <td>29.4%</td>\n",
       "      <td>29.3%</td>\n",
       "      <td>18.8%</td>\n",
       "      <td>32.0%</td>\n",
       "      <td>27.8%</td>\n",
       "      <td>31.8%</td>\n",
       "    </tr>\n",
       "  </tbody>\n",
       "</table>\n",
       "</div>"
      ],
      "text/plain": [
       "                   Fnatic G2 Esports  Giants    H2K  Splyce Unicorns of Love\n",
       "Games Played            3          8       4     12       9               12\n",
       "Wins                    0          6       1      8       4                5\n",
       "Losses                  3          2       3      4       5                7\n",
       "Average Game Time    35.5       35.6    33.5   36.7    37.4             34.7\n",
       "Kills                   8        135      46    142      97              141\n",
       "Deaths                 49         91      69     87     110              164\n",
       "K:D                  0.16       1.48    0.67   1.63    0.88             0.86\n",
       "CKPM                 0.54       0.79    0.86   0.52    0.62             0.73\n",
       "GSPD                -4.1%      10.9%  -11.4%   3.8%   -5.7%            -2.0%\n",
       "TWL                  0.0%      33.9%   12.1%  28.2%    9.6%            21.4%\n",
       "TWD                 31.7%       3.2%   52.3%   9.6%   34.5%            20.9%\n",
       "EGR                  21.3       71.0    29.6   73.5    27.6             43.3\n",
       "MLR                 -21.3        4.0    -4.6   -6.9    16.9             -1.6\n",
       "GD@15              -1,615      1,826  -2,256  1,437  -1,530             -351\n",
       "FB%                    0%        38%     25%    50%     78%              58%\n",
       "FD%                    0%        63%     25%    92%     22%              42%\n",
       "DRG%                  22%        60%     25%    71%     40%              44%\n",
       "FT%                    0%        88%     25%    83%     22%              33%\n",
       "F3T%                   0%        50%     25%    67%     44%              58%\n",
       "HLD%                   0%        38%     25%    17%      0%              17%\n",
       "FBN%                  33%        88%     25%    58%     33%              42%\n",
       "BN%                   33%        80%     20%    63%     31%              47%\n",
       "JNG%                52.1%      55.9%   45.5%  51.1%   48.0%            47.4%\n",
       "WPM                  3.49       3.62    3.53   3.58    3.39             3.41\n",
       "WCPM                 1.37       1.33    1.02   1.39    1.35             1.51\n",
       "VWC                 56.4%      72.7%   66.7%  73.3%   60.6%            72.1%\n",
       "IWC                 29.4%      29.3%   18.8%  32.0%   27.8%            31.8%"
      ]
     },
     "execution_count": 29,
     "metadata": {},
     "output_type": "execute_result"
    }
   ],
   "source": [
    "EU_Team_Stats_data = {team_stats_eu[0][0] : Fnatic_stats,\n",
    "     ....:            team_stats_eu[0][1] : G2_Esports_stats,\n",
    "     ....:            team_stats_eu[0][2] : Giants_stats,\n",
    "     ....:            team_stats_eu[0][3] : H2K_stats,\n",
    "     ....:            team_stats_eu[0][4] : Splyce_stats,\n",
    "     ....:            team_stats_eu[0][5] : Unicorns_of_Love_stats    }\n",
    "EU_Team_Stats_data = pd.DataFrame(EU_Team_Stats_data)\n",
    "EU_Team_Stats_data"
   ]
  },
  {
   "cell_type": "code",
   "execution_count": 72,
   "metadata": {
    "collapsed": false
   },
   "outputs": [],
   "source": [
    "#LCK Teams and Players\n",
    "class_dest = '//td[@class=\"column-'\n",
    "class_end = '\"]/text()'\n",
    "page = requests.get('http://oracleselixir.com/statistics/lck/lck-2016-summer-playoffs-team-statistics/')\n",
    "tree = html.fromstring(page.content)\n",
    "team_stats_lck = []\n",
    "\n",
    "for i in range(28):\n",
    "    team_stats_lck.append(tree.xpath(class_dest+str(i+1)+class_end))\n",
    "\n",
    "page_player = requests.get('http://oracleselixir.com/statistics/lck/lck-2016-summer-playoffs-player-statistics/')\n",
    "tree_player = html.fromstring(page_player.content)\n",
    "player_stats_lck = []\n",
    "\n",
    "for i in range(22):\n",
    "    player_stats_lck.append(tree_player.xpath(class_dest+str(i+1)+class_end))"
   ]
  },
  {
   "cell_type": "code",
   "execution_count": 75,
   "metadata": {
    "collapsed": false,
    "scrolled": true
   },
   "outputs": [
    {
     "data": {
      "text/plain": [
       "[['Afreeca Freecs',\n",
       "  'KT Rolster',\n",
       "  'ROX Tigers',\n",
       "  'Samsung Galaxy',\n",
       "  'SK Telecom T1'],\n",
       " ['2', '13', '5', '5', '5'],\n",
       " ['0', '8', '3', '2', '2'],\n",
       " ['2', '5', '2', '3', '3'],\n",
       " ['35.9', '37.7', '36.2', '38.6', '37.6'],\n",
       " ['20', '200', '69', '69', '39'],\n",
       " ['45', '133', '69', '81', '71'],\n",
       " ['0.44', '1.50', '1.00', '0.85', '0.55'],\n",
       " ['0.91', '0.68', '0.76', '0.78', '0.58'],\n",
       " ['-16.9%', '5.1%', '2.2%', '-5.0%', '-3.7%'],\n",
       " ['5.7%', '38.6%', '17.4%', '13.1%', '7.0%'],\n",
       " ['31.4%', '9.7%', '28.1%', '24.6%', '50.5%'],\n",
       " ['62.2', '54.5', '54.3', '49.4', '29.8'],\n",
       " ['-62.2', '7.1', '5.7', '-9.4', '10.2'],\n",
       " ['1,027', '460', '-60', '-78', '-1,469'],\n",
       " ['50%', '54%', '60%', '40%', '40%'],\n",
       " ['100%', '46%', '60%', '20%', '60%'],\n",
       " ['33%', '58%', '43%', '44%', '50%'],\n",
       " ['100%', '69%', '20%', '40%', '20%'],\n",
       " ['0%', '77%', '40%', '40%', '20%'],\n",
       " ['0%', '15%', '0%', '20%', '20%'],\n",
       " ['50%', '50%', '80%', '20%', '50%'],\n",
       " ['33%', '50%', '71%', '29%', '60%'],\n",
       " ['45.3%', '52.3%', '51.1%', '47.3%', '47.7%'],\n",
       " ['2.95', '3.36', '3.71', '3.39', '3.48'],\n",
       " ['1.04', '1.54', '1.30', '1.37', '1.61'],\n",
       " ['55.5%', '74.9%', '73.9%', '69.9%', '67.2%'],\n",
       " ['24.8%', '31.5%', '28.5%', '28.2%', '33.3%']]"
      ]
     },
     "execution_count": 75,
     "metadata": {},
     "output_type": "execute_result"
    }
   ],
   "source": [
    "team_stats_lck\n",
    "for j in range(len(team_stats_lck[0]))\n",
    "    for i in range(len(team_stats_lck)):\n",
    "    "
   ]
  },
  {
   "cell_type": "code",
   "execution_count": 65,
   "metadata": {
    "collapsed": true
   },
   "outputs": [],
   "source": [
    "#LCK Teams and Players\n",
    "#class_dest = '//td[@class=\"column-'\n",
    "#class_end = '\"]/text()'\n",
    "#page = requests.get('http://oracleselixir.com/statistics/lpl/lpl-2016-summer-playoffs-team-statistics/')\n",
    "#tree = html.fromstring(page.content)\n",
    "#team_stats_lpl = []\n",
    "\n",
    "#for i in range(28):\n",
    "#    team_stats_lpl.append(tree.xpath(class_dest+str(i+1)+class_end))\n",
    "#    team_stats_lpl = list(team_stats_lpl)\n",
    "\n",
    "#page_player = requests.get('http://oracleselixir.com/statistics/lpl/lpl-2016-summer-playoffs-player-statistics/')\n",
    "#tree_player = html.fromstring(page_player.content)\n",
    "#player_stats_lpl = []\n",
    "\n",
    "#for i in range(22):\n",
    "#    player_stats_lpl.append(tree_player.xpath(class_dest+str(i+1)+class_end))"
   ]
  },
  {
   "cell_type": "code",
   "execution_count": 69,
   "metadata": {
    "collapsed": false
   },
   "outputs": [
    {
     "data": {
      "text/plain": [
       "[['EDward Gaming',\n",
       "  'Game Talents',\n",
       "  'I MAY',\n",
       "  'Invictus Gaming',\n",
       "  'Royal Never Give Up',\n",
       "  'Snake eSports',\n",
       "  'Team WE',\n",
       "  'Vici Gaming'],\n",
       " ['5', '3', '15', '2', '5', '4', '13', '7'],\n",
       " ['3', '0', '10', '0', '3', '1', '6', '4'],\n",
       " ['2', '3', '5', '2', '2', '3', '7', '3'],\n",
       " ['34.9', '32.3', '37.9', '31.8', '41.4', '37.9', '36.4', '35.8'],\n",
       " ['81', '28', '234', '13', '70', '60', '165', '111'],\n",
       " ['82', '71', '187', '32', '54', '77', '192', '68'],\n",
       " ['0.99', '0.39', '1.25', '0.41', '1.30', '0.78', '0.86', '1.63'],\n",
       " ['0.94', '1.02', '0.74', '0.71', '0.60', '0.90', '0.75', '0.71'],\n",
       " ['0.0%', '0.0%', '0.0%', '0.0%', '0.0%', '0.0%', '0.0%', '0.0%'],\n",
       " ['#DIV/0!',\n",
       "  '#DIV/0!',\n",
       "  '#DIV/0!',\n",
       "  '#DIV/0!',\n",
       "  '#DIV/0!',\n",
       "  '#DIV/0!',\n",
       "  '#DIV/0!',\n",
       "  '#DIV/0!'],\n",
       " ['#DIV/0!',\n",
       "  '#DIV/0!',\n",
       "  '#DIV/0!',\n",
       "  '#DIV/0!',\n",
       "  '#DIV/0!',\n",
       "  '#DIV/0!',\n",
       "  '#DIV/0!',\n",
       "  '#DIV/0!'],\n",
       " ['0.0', '0.0', '0.0', '0.0', '0.0', '0.0', '0.0', '0.0'],\n",
       " ['0.0', '0.0', '0.0', '0.0', '0.0', '0.0', '0.0', '0.0'],\n",
       " ['0', '0', '0', '0', '0', '0', '0', '0'],\n",
       " ['0%', '0%', '0%', '0%', '0%', '0%', '0%', '0%'],\n",
       " ['0%', '0%', '0%', '0%', '0%', '0%', '0%', '0%'],\n",
       " ['31%', '25%', '64%', '14%', '60%', '23%', '56%', '52%'],\n",
       " ['0%', '0%', '0%', '0%', '0%', '0%', '0%', '0%'],\n",
       " ['0%', '0%', '0%', '0%', '0%', '0%', '0%', '0%'],\n",
       " ['0%', '0%', '0%', '0%', '0%', '0%', '0%', '0%'],\n",
       " ['0%', '0%', '0%', '0%', '0%', '0%', '0%', '0%'],\n",
       " ['#DIV/0!',\n",
       "  '#DIV/0!',\n",
       "  '#DIV/0!',\n",
       "  '#DIV/0!',\n",
       "  '#DIV/0!',\n",
       "  '#DIV/0!',\n",
       "  '#DIV/0!',\n",
       "  '#DIV/0!'],\n",
       " ['0.0%', '0.0%', '0.0%', '0.0%', '0.0%', '0.0%', '0.0%', '0.0%'],\n",
       " ['0.00', '0.00', '0.00', '0.00', '0.00', '0.00', '0.00', '0.00'],\n",
       " ['0.00', '0.00', '0.00', '0.00', '0.00', '0.00', '0.00', '0.00'],\n",
       " ['0.0%', '0.0%', '0.0%', '0.0%', '0.0%', '0.0%', '0.0%', '0.0%'],\n",
       " ['0.0%', '0.0%', '0.0%', '0.0%', '0.0%', '0.0%', '0.0%', '0.0%']]"
      ]
     },
     "execution_count": 69,
     "metadata": {},
     "output_type": "execute_result"
    }
   ],
   "source": [
    "#team_stats_lpl"
   ]
  },
  {
   "cell_type": "markdown",
   "metadata": {},
   "source": [
    "Scrape example\n",
    "strings used for this are\n",
    "<div title=\"buyer-name\">Carson Busses</div>\n",
    "<span class=\"item-price\">$29.95</span>"
   ]
  },
  {
   "cell_type": "code",
   "execution_count": 25,
   "metadata": {
    "collapsed": false
   },
   "outputs": [
    {
     "data": {
      "text/plain": [
       "['$29.95',\n",
       " '$8.37',\n",
       " '$15.26',\n",
       " '$19.25',\n",
       " '$19.25',\n",
       " '$13.99',\n",
       " '$31.57',\n",
       " '$8.49',\n",
       " '$14.47',\n",
       " '$15.86',\n",
       " '$11.11',\n",
       " '$15.98',\n",
       " '$16.27',\n",
       " '$7.50',\n",
       " '$50.85',\n",
       " '$14.26',\n",
       " '$5.68',\n",
       " '$15.00',\n",
       " '$114.07',\n",
       " '$10.09']"
      ]
     },
     "execution_count": 25,
     "metadata": {},
     "output_type": "execute_result"
    }
   ],
   "source": [
    "page = requests.get('http://econpy.pythonanywhere.com/ex/001.html')\n",
    "tree = html.fromstring(page.content)\n",
    "buyers = tree.xpath('//div[@title=\"buyer-name\"]/text()')\n",
    "prices = tree.xpath('//span[@class=\"item-price\"]/text()')\n",
    "buyers\n",
    "prices"
   ]
  }
 ],
 "metadata": {
  "kernelspec": {
   "display_name": "Python 2",
   "language": "python",
   "name": "python2"
  },
  "language_info": {
   "codemirror_mode": {
    "name": "ipython",
    "version": 2
   },
   "file_extension": ".py",
   "mimetype": "text/x-python",
   "name": "python",
   "nbconvert_exporter": "python",
   "pygments_lexer": "ipython2",
   "version": "2.7.11"
  }
 },
 "nbformat": 4,
 "nbformat_minor": 0
}
